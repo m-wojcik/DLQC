{
 "cells": [
  {
   "cell_type": "markdown",
   "id": "cf14995c",
   "metadata": {},
   "source": [
    "# Open system evolution in Stinespring fashion\n",
    "\n",
    "Specifying the form of environment and the interaction with it makes it possible to calculate entropy production in a clear way"
   ]
  },
  {
   "cell_type": "code",
   "execution_count": 2,
   "id": "dac5fd30",
   "metadata": {},
   "outputs": [],
   "source": [
    "import numpy as np\n",
    "import matplotlib.pyplot as plt\n",
    "#import scipy as sp\n",
    "from jax import numpy as jnp\n",
    "import jax.scipy as sp\n",
    "\n",
    "from src import visuals as vis\n",
    "%matplotlib qt\n",
    "\n",
    "from flax import nnx\n",
    "import optax\n",
    "import jax\n",
    "from jax import numpy as jnp\n",
    "\n",
    "from tqdm import tqdm\n",
    "\n",
    "import sys"
   ]
  },
  {
   "cell_type": "code",
   "execution_count": null,
   "id": "d8949190",
   "metadata": {},
   "outputs": [],
   "source": [
    "### DECLARATIONS:\n",
    "\n",
    "\n",
    "rho_x = jnp.array([[0,1],[1,0]])\n",
    "rho_y = jnp.array([[0,-1j],[1j,0]])\n",
    "rho_z = jnp.array([[1,0],[0,-1]])\n",
    "\n",
    "rho_m = jnp.array([[0,1],[0,0]])\n",
    "rho_p = jnp.array([[0,0],[1,0]])\n",
    "\n",
    "psi_0 = jnp.array([1,0])\n",
    "psi_1 = jnp.array([0,1])\n",
    "\n",
    "### SYSTEM:\n",
    "@nnx.jit\n",
    "def H_S(w, g):\n",
    "    # two-level system:\n",
    "    H0 = w * rho_z\n",
    "\n",
    "    # external driving:\n",
    "    V = g * rho_x\n",
    "    return jnp.kron(H0 + V, jnp.eye(2))\n",
    "\n",
    "### ENVIRONMENT:\n",
    "@nnx.jit\n",
    "def H_E(r):\n",
    "    # two-level system again:\n",
    "    H = r * rho_z\n",
    "    return jnp.kron(jnp.eye(2), H) \n",
    "\n",
    "### INTERACTION:\n",
    "@nnx.jit\n",
    "def H_I(k):\n",
    "    op = jnp.kron(rho_m, rho_p)\n",
    "    H = k * (op + jnp.conj(op).T)\n",
    "    return H"
   ]
  },
  {
   "cell_type": "code",
   "execution_count": 14,
   "id": "7a4804fd",
   "metadata": {},
   "outputs": [
    {
     "data": {
      "text/plain": [
       "Array([[ 2.,  0.,  3.,  0.],\n",
       "       [ 0.,  2.,  0.,  3.],\n",
       "       [ 3.,  0., -2., -0.],\n",
       "       [ 0.,  3., -0., -2.]], dtype=float32)"
      ]
     },
     "execution_count": 14,
     "metadata": {},
     "output_type": "execute_result"
    }
   ],
   "source": [
    "H_S(2,3)"
   ]
  },
  {
   "cell_type": "code",
   "execution_count": 17,
   "id": "4b0b09f4",
   "metadata": {},
   "outputs": [
    {
     "data": {
      "text/plain": [
       "Array([[0., 0., 0., 0.],\n",
       "       [0., 0., 0., 0.],\n",
       "       [0., 0., 0., 0.],\n",
       "       [0., 0., 0., 0.]], dtype=float32)"
      ]
     },
     "execution_count": 17,
     "metadata": {},
     "output_type": "execute_result"
    }
   ],
   "source": [
    "H_E(0)"
   ]
  },
  {
   "cell_type": "code",
   "execution_count": 19,
   "id": "11629845",
   "metadata": {},
   "outputs": [
    {
     "data": {
      "text/plain": [
       "Array([[0, 0, 0, 0],\n",
       "       [0, 0, 4, 0],\n",
       "       [0, 4, 0, 0],\n",
       "       [0, 0, 0, 0]], dtype=int32)"
      ]
     },
     "execution_count": 19,
     "metadata": {},
     "output_type": "execute_result"
    }
   ],
   "source": [
    "H_I(4)"
   ]
  },
  {
   "cell_type": "code",
   "execution_count": 20,
   "id": "09dd5851",
   "metadata": {},
   "outputs": [],
   "source": [
    "def H(w, g, r, k):\n",
    "    return H_S(w, g) + H_E(r) + H_I(k)"
   ]
  },
  {
   "cell_type": "code",
   "execution_count": 24,
   "id": "c4d20d2d",
   "metadata": {},
   "outputs": [],
   "source": [
    "def U(w, g, r, k):\n",
    "    H_tmp = H(w, g, r, k)\n",
    "    return sp.linalg.expm(-1j * H_tmp)"
   ]
  },
  {
   "cell_type": "code",
   "execution_count": 31,
   "id": "e3eace05",
   "metadata": {},
   "outputs": [],
   "source": [
    "def unitary_step(H, state, dt):\n",
    "    U = sp.linalg.expm(-1j * H * dt)\n",
    "    new_state = U @ state\n",
    "    return new_state"
   ]
  },
  {
   "cell_type": "code",
   "execution_count": 33,
   "id": "ece6aabd",
   "metadata": {},
   "outputs": [],
   "source": [
    "def rho_th(T, H):\n",
    "    beta = 1/T\n",
    "    rho_tmp = sp.linalg.expm(- beta * H)\n",
    "    Z = jnp.trace(rho_tmp)\n",
    "    return rho_tmp / Z"
   ]
  },
  {
   "cell_type": "code",
   "execution_count": 35,
   "id": "993be5bb",
   "metadata": {},
   "outputs": [],
   "source": [
    "R = rho_th(1,H(1,1,1,1))"
   ]
  },
  {
   "cell_type": "code",
   "execution_count": 36,
   "id": "441a7a7e",
   "metadata": {},
   "outputs": [],
   "source": [
    "import seaborn "
   ]
  },
  {
   "cell_type": "code",
   "execution_count": 37,
   "id": "1b99577a",
   "metadata": {},
   "outputs": [
    {
     "data": {
      "text/plain": [
       "<Axes: >"
      ]
     },
     "execution_count": 37,
     "metadata": {},
     "output_type": "execute_result"
    }
   ],
   "source": [
    "seaborn.heatmap(R)"
   ]
  },
  {
   "cell_type": "code",
   "execution_count": 58,
   "id": "11a579b5",
   "metadata": {},
   "outputs": [],
   "source": [
    "row = [1,2,3,4]\n",
    "\n",
    "Z = np.array([row, [10*x for x in row], [100*x for x in row], [1000*x for x in row]])"
   ]
  },
  {
   "cell_type": "code",
   "execution_count": 62,
   "id": "2f2463b8",
   "metadata": {},
   "outputs": [
    {
     "data": {
      "text/plain": [
       "array([[   1,    2,    3,    4],\n",
       "       [  10,   20,   30,   40],\n",
       "       [ 100,  200,  300,  400],\n",
       "       [1000, 2000, 3000, 4000]])"
      ]
     },
     "execution_count": 62,
     "metadata": {},
     "output_type": "execute_result"
    }
   ],
   "source": [
    "Z"
   ]
  },
  {
   "cell_type": "code",
   "execution_count": 63,
   "id": "cd263b67",
   "metadata": {},
   "outputs": [
    {
     "data": {
      "text/plain": [
       "array([[ 300,  400],\n",
       "       [3000, 4000]])"
      ]
     },
     "execution_count": 63,
     "metadata": {},
     "output_type": "execute_result"
    }
   ],
   "source": [
    "Z[2:4, 2:4]"
   ]
  },
  {
   "cell_type": "code",
   "execution_count": 64,
   "id": "f140459a",
   "metadata": {},
   "outputs": [],
   "source": [
    "def partial_tr(M):\n",
    "    \"\"\"Partial trace operation for tracing out the environment out of a composite system of two qubits\"\"\"\n",
    "    A = jnp.trace(M[0:2, 0:2])\n",
    "    B = jnp.trace(M[0:2, 2:4])\n",
    "    C = jnp.trace(M[2:4, 0:2])\n",
    "    D = jnp.trace(M[2:4, 2:4])\n",
    "    M_new = jnp.array([[A,B],[C,D]])\n",
    "    return M_new\n"
   ]
  },
  {
   "cell_type": "code",
   "execution_count": 65,
   "id": "db599b3c",
   "metadata": {},
   "outputs": [
    {
     "data": {
      "text/plain": [
       "Array([[  21,   43],\n",
       "       [2100, 4300]], dtype=int32)"
      ]
     },
     "execution_count": 65,
     "metadata": {},
     "output_type": "execute_result"
    }
   ],
   "source": [
    "partial_tr(Z)"
   ]
  }
 ],
 "metadata": {
  "kernelspec": {
   "display_name": "quantum",
   "language": "python",
   "name": "python3"
  },
  "language_info": {
   "codemirror_mode": {
    "name": "ipython",
    "version": 3
   },
   "file_extension": ".py",
   "mimetype": "text/x-python",
   "name": "python",
   "nbconvert_exporter": "python",
   "pygments_lexer": "ipython3",
   "version": "3.10.16"
  }
 },
 "nbformat": 4,
 "nbformat_minor": 5
}
