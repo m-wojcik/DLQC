{
 "cells": [
  {
   "cell_type": "code",
   "execution_count": 1,
   "metadata": {},
   "outputs": [],
   "source": [
    "from mpl_toolkits.mplot3d import Axes3D\n",
    "import matplotlib.pyplot as plt\n",
    "import matplotlib.patches as mpatches\n",
    "import matplotlib.animation as animation\n",
    "import numpy as np\n",
    "import scipy as sp "
   ]
  },
  {
   "cell_type": "code",
   "execution_count": 2,
   "metadata": {},
   "outputs": [],
   "source": [
    "%matplotlib qt"
   ]
  },
  {
   "cell_type": "markdown",
   "metadata": {},
   "source": [
    "# Animated path on the Bloch sphere"
   ]
  },
  {
   "cell_type": "code",
   "execution_count": 4,
   "metadata": {},
   "outputs": [],
   "source": [
    "fig = plt.figure()\n",
    "ax = fig.add_subplot(111, projection='3d')\n",
    "ax.set(xlim3d=[-1.2,1.2], ylim3d=[-1.2,1.2], zlim3d=[-1.2,1.2])\n",
    "npoints = 100\n",
    "\n",
    "r = 1\n",
    "u = np.linspace(0,2*np.pi, npoints)\n",
    "v = np.linspace(0, np.pi, npoints)\n",
    "x = r * np.outer(np.cos(u), np.sin(v))\n",
    "y = r * np.outer(np.sin(u), np.sin(v))\n",
    "z = r * np.outer(np.ones(np.size(u)), np.cos(v))\n",
    "\n",
    "ax.plot_surface(x,y,z, color='linen', alpha=0.4)\n",
    "\n",
    "theta = np.linspace(0, 2*np.pi, npoints)\n",
    "straight = np.zeros(npoints)\n",
    "round1 = r * np.sin(theta)\n",
    "round2 = r * np.cos(theta)\n",
    "\n",
    "ax.plot(round1, round2, straight, color='black', alpha=0.75)\n",
    "ax.plot(straight, round1, round2, color='black', alpha=0.75)\n",
    "#ax.plot(round1, straight, round2, color='black', alpha=0.75)\n",
    "\n",
    "line = np.linspace(-r,r,npoints)\n",
    "\n",
    "ax.plot(line, straight, straight, color='black', alpha=0.6)\n",
    "ax.plot(straight, line, straight, color='black', alpha=0.6)\n",
    "ax.plot(straight, straight, line, color='black', alpha=0.6)\n",
    "\n",
    "ar = ax.quiver(\n",
    "        0, 0, 0, # <-- starting point of vector\n",
    "        0, 0, r, # <-- directions of vector\n",
    "        color = 'magenta', alpha = 1, lw = 3,\n",
    "        arrow_length_ratio = 0.15\n",
    "    )\n",
    "\n",
    "nperiods = 4\n",
    "nframes = 400\n",
    "data3d = np.zeros((nframes, 3))\n",
    "data3d[0] = np.array([0,0,r])\n",
    "\n",
    "sc = ax.scatter(0,0,r, c='red', s=2)\n",
    "phi = 0\n",
    "def update(frame):\n",
    "    global ar\n",
    "    global phi\n",
    "    ar.remove()\n",
    "    theta = nperiods * 2 * np.pi * frame / nframes\n",
    "    phi += np.random.normal(0,0.03)\n",
    "    tipx = r * np.sin(phi) * np.sin(theta)\n",
    "    tipy = r * np.cos(phi) * np.sin(theta)\n",
    "    tipz = r * np.cos(theta)\n",
    "    ar = ax.quiver(0, 0, 0, # <-- starting point of vector\n",
    "        tipx, tipy, tipz, # <-- directions of vector\n",
    "        color = 'magenta', alpha = 1, lw = 3,\n",
    "        arrow_length_ratio = 0.15)\n",
    "    \n",
    "    data3d[frame] = np.array([tipx,tipy,tipz])\n",
    "    sc._offsets3d = (data3d[:frame,0], data3d[:frame,1], data3d[:frame,2])\n",
    "    return (sc,ar,)\n",
    "     \n",
    "ani = animation.FuncAnimation(fig=fig, func=update, frames=nframes, interval=30)\n",
    "ani.save(filename=\"anim.mp4\", writer=\"ffmpeg\")\n",
    "\n",
    "plt.show()"
   ]
  },
  {
   "cell_type": "markdown",
   "metadata": {},
   "source": [
    "# Control scheme for a two-level system"
   ]
  },
  {
   "cell_type": "code",
   "execution_count": null,
   "metadata": {},
   "outputs": [],
   "source": [
    "rho_x = np.array([[0,1],[1,0]])\n",
    "rho_y = np.array([[0,-1j],[1j,0]])\n",
    "rho_z = np.array([[1,0],[0,-1]])\n",
    "\n",
    "rho_p = np.array([[0,1],[0,0]])\n",
    "rho_m = np.array([[0,0],[1,0]])\n",
    "\n",
    "psi_0 = np.array([1,0])\n",
    "psi_1 = np.array([0,1])\n",
    "\n",
    "def H(w, g):\n",
    "    return w * rho_z + g * rho_x\n",
    "\n",
    "rho = np.outer(np.conj(psi_0), psi_0)"
   ]
  },
  {
   "cell_type": "code",
   "execution_count": 7,
   "metadata": {},
   "outputs": [],
   "source": [
    "def unitary_step(H, state, dt):\n",
    "    U = sp.linalg.expm(-1j * H * dt)\n",
    "    new_state = U @ state\n",
    "    return new_state"
   ]
  },
  {
   "cell_type": "code",
   "execution_count": 8,
   "metadata": {},
   "outputs": [],
   "source": [
    "T = 3\n",
    "nsteps = 100\n",
    "\n",
    "dt = T/nsteps\n",
    "\n",
    "sigma_z = np.zeros(nsteps, dtype='complex')\n",
    "sigma_x = np.zeros(nsteps, dtype='complex')\n",
    "\n",
    "state = (psi_0 + psi_1 ) / np.sqrt(2)\n",
    "target = psi_1\n",
    "\n",
    "ts = np.linspace(0,T,nsteps)\n",
    "fidelities = np.zeros(nsteps)\n",
    "work = 0\n",
    "\n",
    "# easy case:\n",
    "state = psi_0\n",
    "target = psi_1\n",
    "# from theory we get:\n",
    "w_opt = 0\n",
    "g_opt = np.pi/(2*T)\n",
    "H_tmp = H(w_opt, g_opt)\n",
    "\n",
    "# harder case:\n",
    "#state = (psi_0 + psi_1 ) / np.sqrt(2)\n",
    "#target = psi_1\n",
    "\n",
    "for i in range(nsteps):\n",
    "    #H_tmp = H(2.2*np.sin(i*dt), np.cos(1.1*i*dt))\n",
    "\n",
    "    sigma_x[i] = np.dot(np.conj(state), rho_x @ state)\n",
    "    sigma_z[i] = np.dot(np.conj(state), rho_z @ state)\n",
    "    work += np.dot(np.conj(state), H_tmp @ state)*dt\n",
    "    fidelities[i] = np.abs(np.dot(np.conj(target), state))**2\n",
    "    state = unitary_step(H_tmp, state, dt)\n",
    "\n"
   ]
  },
  {
   "cell_type": "code",
   "execution_count": 9,
   "metadata": {},
   "outputs": [],
   "source": [
    "fig, ax = plt.subplots()\n",
    "\n",
    "# turns out in most cases the imaginary parts are zero.\n",
    "\n",
    "ax.plot(ts, np.real(sigma_x), c='cyan', label=r'$\\sigma_x$')\n",
    "#ax.plot(ts, np.imag(sigma_x), c='cyan', ls=':')\n",
    "\n",
    "ax.plot(ts, np.real(sigma_z), c='pink', label=r'$\\sigma_z$')\n",
    "#ax.plot(ts, np.imag(sigma_z), c='pink', ls=\":\")\n",
    "\n",
    "ax.plot(ts, fidelities, c='black', ls='--', label='F')\n",
    "\n",
    "ax.legend(loc='best')\n",
    "\n",
    "fig.suptitle(f'W={work.real:.4}')\n",
    "plt.show()"
   ]
  },
  {
   "cell_type": "markdown",
   "metadata": {},
   "source": [
    "# Function for evolving the state given the discretized amplitudes"
   ]
  },
  {
   "cell_type": "code",
   "execution_count": 10,
   "metadata": {},
   "outputs": [],
   "source": [
    "def evolution(initial_state, ws, gs, nsteps, dt, return_measurements=False, return_fidelity=False, target=None):\n",
    "    \"\"\"The state is evolved unitarily over intervals of length dt with constant parameter values given by the tables ws, gs\"\"\"\n",
    "    sigma_z = np.zeros(nsteps, dtype='complex')\n",
    "    sigma_x = np.zeros(nsteps, dtype='complex')\n",
    "\n",
    "    fidelities = np.zeros(nsteps)\n",
    "    state = initial_state\n",
    "    H_t0 = H(ws[0], gs[0])\n",
    "    sigma_x[0] = np.dot(np.conj(state), rho_x @ state)\n",
    "    sigma_z[0] = np.dot(np.conj(state), rho_z @ state)\n",
    "    fidelity = np.abs(np.dot(np.conj(target), state))**2\n",
    "    fidelities[0] = fidelity\n",
    "    work = 0 \n",
    "    for i in range(1,nsteps):\n",
    "        state = unitary_step(H_t0, state, dt)\n",
    "        sigma_x[i] = np.dot(np.conj(state), rho_x @ state)\n",
    "        sigma_z[i] = np.dot(np.conj(state), rho_z @ state)\n",
    "        fidelity = np.abs(np.dot(np.conj(target), state))**2\n",
    "        fidelities[i] = fidelity\n",
    "        H_t1 = H(ws[i], gs[i])\n",
    "        dH = H_t1 - H_t0\n",
    "        dU = np.dot(np.conj(state), dH @ state)\n",
    "        work += dU # we identify work with the change of internal energy\n",
    "\n",
    "        H_t0 = H_t1\n",
    "        \n",
    "    if return_measurements:\n",
    "        return state, sigma_x, sigma_z, fidelities, work.real\n",
    "    elif return_fidelity:\n",
    "        return state, fidelity\n",
    "    else:\n",
    "        return state\n",
    "    \n",
    "    "
   ]
  },
  {
   "cell_type": "code",
   "execution_count": 11,
   "metadata": {},
   "outputs": [],
   "source": [
    "nsteps = 100\n",
    "T = 0.5\n",
    "dt = T/nsteps\n",
    "\n",
    "ws = np.ones(nsteps) * 2 * np.pi / (T) \n",
    "gs = np.ones(nsteps) * 1 * np.pi / (T)\n",
    "ws[:int(nsteps/2)] = 1\n",
    "gs[:int(nsteps/2)] = 2\n",
    "\n",
    "psi_init = (psi_0 + psi_1) / np.sqrt(2)\n",
    "psi_final = (psi_0 - psi_1) / np.sqrt(2)\n",
    "\n",
    "state, sigma_x, sigma_z, fidelities, work = evolution(psi_init, ws, gs, nsteps, dt, return_measurements=True, target=psi_final)"
   ]
  },
  {
   "cell_type": "code",
   "execution_count": 16,
   "metadata": {},
   "outputs": [],
   "source": [
    "fig, ax = plt.subplots()\n",
    "\n",
    "# turns out in most cases the imaginary parts are zero.\n",
    "\n",
    "ax.plot(ts, np.real(sigma_x), c='cyan', label=r'$\\sigma_x$')\n",
    "#ax.plot(ts, np.imag(sigma_x), c='cyan', ls=':')\n",
    "\n",
    "ax.plot(ts, np.real(sigma_z), c='pink', label=r'$\\sigma_z$')\n",
    "#ax.plot(ts, np.imag(sigma_z), c='pink', ls=\":\")\n",
    "\n",
    "ax.plot(ts, fidelities, c='black', ls='--', label='F')\n",
    "\n",
    "ax.legend(loc='best')\n",
    "\n",
    "fig.suptitle(f'W={work.real:.4}')\n",
    "plt.show()"
   ]
  },
  {
   "cell_type": "markdown",
   "metadata": {},
   "source": [
    "# Optimizing the control for a selected target state"
   ]
  },
  {
   "cell_type": "code",
   "execution_count": 17,
   "metadata": {},
   "outputs": [],
   "source": [
    "from scipy.optimize import minimize"
   ]
  },
  {
   "cell_type": "code",
   "execution_count": 22,
   "metadata": {},
   "outputs": [],
   "source": [
    "def objective(params, state, target, nsteps, dt):\n",
    "    \"\"\"\n",
    "    The argument params is a numpy array of shape (1, 2*nsteps). First nsteps values contain the ws, second nsteps values contain the gs.\n",
    "    The objective is maximizing the fidelity of the final state, which we turn into the minimization of a function 1-fidelity.\n",
    "    \"\"\"\n",
    "    ws = params[:nsteps]\n",
    "    gs = params[nsteps:]\n",
    "    state, sigma_x, sigma_z, fidelities, work = evolution(state, ws, gs, nsteps, dt, return_measurements=True, target=target)\n",
    "    fid = fidelities[-1]\n",
    "    return  work**2 + (1 - fid) "
   ]
  },
  {
   "cell_type": "code",
   "execution_count": 30,
   "metadata": {},
   "outputs": [],
   "source": [
    "nsteps = 10\n",
    "T = 1\n",
    "dt = T/nsteps\n",
    "epsilon = 0.001\n",
    "\n",
    "# stating the problem\n",
    "psi_init = (psi_0 + psi_1) / np.sqrt(2)\n",
    "#psi_final = (psi_0 - psi_1) / np.sqrt(2)\n",
    "\n",
    "# different problem\n",
    "psi_init = psi_0\n",
    "#psi_final = psi_1\n",
    "\n",
    "# different problem\n",
    "psi_init = psi_0\n",
    "v = 2 * np.pi\n",
    "u = 0\n",
    "#psi_final = np.cos(v/2) * psi_0 + np.exp(1j * u)*np.sin(v/2) * psi_1\n",
    "\n",
    "# zero initial parameters:\n",
    "params = np.zeros(2*nsteps) + epsilon\n",
    "\n",
    "# random initial parameters:\n",
    "params = np.random.rand(2*nsteps)\n",
    "\n",
    "# tailored initial parameters (from theory we know they should be constant) with some deviation epsilon\n",
    "#params = np.append(np.zeros(nsteps)+epsilon, np.ones(nsteps)*np.pi/(2*T)-epsilon)\n",
    "\n",
    "sol = minimize(objective, params, args=(psi_init, psi_final, nsteps, dt))"
   ]
  },
  {
   "cell_type": "code",
   "execution_count": 31,
   "metadata": {},
   "outputs": [],
   "source": [
    "params_opt = sol['x']\n",
    "\n",
    "ws_opt = params_opt[:nsteps]\n",
    "gs_opt = params_opt[nsteps:]\n",
    "\n",
    "state, sigma_x, sigma_z, fidelities, work = evolution(psi_init, ws_opt, gs_opt, nsteps, dt, return_measurements=True, target=psi_final)"
   ]
  },
  {
   "cell_type": "code",
   "execution_count": 32,
   "metadata": {},
   "outputs": [
    {
     "name": "stdout",
     "output_type": "stream",
     "text": [
      "target: [0 1]\n",
      "result: [ 0.35359166+0.61234916j -0.35359205-0.6123513j ]\n",
      "rounded: [ 0.4+0.6j -0.4-0.6j]\n",
      "absolute value: [0.71 0.71]\n",
      "fidelity: 0.9999999999976319\n"
     ]
    }
   ],
   "source": [
    "print(\"target: \" + str(psi_1))\n",
    "print(\"result: \" + str(state))\n",
    "print(\"rounded: \"+ str(state.round(1)))\n",
    "print(\"absolute value: \"+ str(np.abs(state).round(2)))\n",
    "print(\"fidelity: \" + str(fidelities[-1]))"
   ]
  },
  {
   "cell_type": "code",
   "execution_count": 33,
   "metadata": {},
   "outputs": [],
   "source": [
    "fig, ax = plt.subplots()\n",
    "ts = np.linspace(0,T,nsteps)\n",
    "ax.plot(ts, ws_opt, label=r'$\\omega$')\n",
    "ax.plot(ts, gs_opt, label=r'g')\n",
    "ax.legend(loc='best')\n",
    "ax.hlines([np.mean(gs_opt), np.mean(ws_opt)], 0, T, colors='black', ls='--')\n",
    "plt.show()"
   ]
  },
  {
   "cell_type": "code",
   "execution_count": 34,
   "metadata": {},
   "outputs": [],
   "source": [
    "fig, ax = plt.subplots()\n",
    "\n",
    "# turns out in most cases the imaginary parts are zero.\n",
    "\n",
    "ax.plot(ts, np.real(sigma_x), c='cyan', label=r'$\\sigma_x$')\n",
    "#ax.plot(ts, np.imag(sigma_x), c='cyan', ls=':')\n",
    "\n",
    "ax.plot(ts, np.real(sigma_z), c='pink', label=r'$\\sigma_z$')\n",
    "#ax.plot(ts, np.imag(sigma_z), c='pink', ls=\":\")\n",
    "\n",
    "ax.plot(ts, fidelities, c='black', ls='--', label='F')\n",
    "\n",
    "ax.legend(loc='best')\n",
    "\n",
    "fig.suptitle(f'W={work.real:.4}, F={fidelities[-1]:.4}')\n",
    "plt.show()"
   ]
  },
  {
   "cell_type": "markdown",
   "metadata": {},
   "source": [
    "# Fidelities for a given final state visualised on the Bloch sphere"
   ]
  },
  {
   "cell_type": "code",
   "execution_count": 35,
   "metadata": {},
   "outputs": [
    {
     "name": "stdout",
     "output_type": "stream",
     "text": [
      "[0.         1.25663706 2.51327412 3.76991118 5.02654825]\n",
      "[0.         0.78539816 1.57079633 2.35619449 3.14159265]\n"
     ]
    }
   ],
   "source": [
    "nthetas = 5\n",
    "nphis = 5\n",
    "\n",
    "# we add one point and then delete it to avoid overlapping the first and last values\n",
    "thetas = np.linspace(0,2*np.pi, nthetas+1)[:-1]\n",
    "phis = np.linspace(0, np.pi, nphis)\n",
    "\n",
    "print(thetas)\n",
    "print(phis)"
   ]
  },
  {
   "cell_type": "code",
   "execution_count": 46,
   "metadata": {},
   "outputs": [],
   "source": [
    "from matplotlib import cm\n",
    "\n",
    "fig = plt.figure()\n",
    "ax = fig.add_subplot(111, projection='3d')\n",
    "ax.set(xlim3d=[-1.2,1.2], ylim3d=[-1.2,1.2], zlim3d=[-1.2,1.2])\n",
    "npoints = 16\n",
    "\n",
    "r = 1\n",
    "u = np.linspace(0,2*np.pi, npoints+1)[:-1] # phis - the one in the exponent in the bloch form; we add and omit the last element to avoid overlapping 0 and 2*pi\n",
    "v = np.linspace(0, np.pi, npoints) # thetas - the one in cosine giving z in the polar form\n",
    "x = r * np.outer(np.cos(u), np.sin(v))\n",
    "y = r * np.outer(np.sin(u), np.sin(v))\n",
    "z = r * np.outer(np.ones(np.size(u)), np.cos(v))\n",
    "\n",
    "nsteps = 3\n",
    "T = 1\n",
    "dt = T/nsteps\n",
    "epsilon = 0.001\n",
    "\n",
    "# here we fix the initial state\n",
    "# psi_init = (psi_0 + 1j*psi_1) / np.sqrt(2)\n",
    "psi_init = psi_0\n",
    "\n",
    "# fixing initial state with the angles:\n",
    "v_init = 0*np.pi/2 # polar, range: [0, pi]\n",
    "u_init = 0*np.pi/2 # azimuthal, range: [0, 2*pi]\n",
    "psi_init = np.cos(v_init/2) * psi_0 + np.exp(1j * u_init)*np.sin(v_init/2) * psi_1\n",
    "\n",
    "# random initial parameters:\n",
    "params = np.random.rand(2*nsteps)\n",
    "\n",
    "# array for storing the obtained fidelities\n",
    "of = np.ones_like(z) \n",
    "\n",
    "for i in range(npoints):\n",
    "    for j in range(npoints):\n",
    "        psi_final = np.cos(v[j]/2) * psi_0 + np.exp(1j * u[i])*np.sin(v[j]/2) * psi_1\n",
    "        #print(psi_final)\n",
    "        sol = minimize(objective, params, args=(psi_init, psi_final, nsteps, dt))\n",
    "        params_opt = sol['x']\n",
    "        ws_opt = params_opt[:nsteps]\n",
    "        gs_opt = params_opt[nsteps:]\n",
    "        state, sigma_x, sigma_z, fidelities, work = evolution(psi_init, ws_opt, gs_opt, nsteps, dt, return_fidelity=False, return_measurements=True, target=psi_final)\n",
    "        fidelity = fidelities[-1]\n",
    "        #print(fidelity)\n",
    "        of[i,j] = fidelity\n",
    "        if np.abs(1-fidelity) > 0.001:\n",
    "            pass\n",
    "            #print(psi_final)\n",
    "            #print(f\"[i,j]=[{i},{j}]; [u,v]=[{u[i]:.3},{v[j]:.3}]; F={fidelity:.3}; target: \" + str(psi_final.round(3)) + \"; state: \" + str(state.round(3)))\n",
    "\n",
    "#ax.plot_surface(x,y,z, alpha=1, facecolors=cm.jet(of/np.amax(of)))\n",
    "#ax.scatter(x,y,z, c=cm.jet(of/np.amax(of)))\n",
    "\n",
    "import matplotlib.colors as mcolors\n",
    "norm = mcolors.Normalize(vmin=0, vmax=1)\n",
    "sc = ax.scatter(x,y,z, c=of, alpha=0.8, s=50, cmap='plasma',norm=norm)\n",
    "#cbar = fig.colorbar(sc)\n",
    "\n",
    "mappable = cm.ScalarMappable(norm=norm, cmap='plasma')\n",
    "cbar = fig.colorbar(mappable, ax=ax)\n",
    "\n",
    "theta = np.linspace(0, 2*np.pi, npoints)\n",
    "straight = np.zeros(npoints)\n",
    "round1 = r * np.sin(theta)\n",
    "round2 = r * np.cos(theta)\n",
    "\n",
    "ax.plot(round1, round2, straight, color='black', alpha=0.8)\n",
    "ax.plot(straight, round1, round2, color='black', alpha=0.8)\n",
    "#ax.plot(round1, straight, round2, color='black', alpha=0.75)\n",
    "\n",
    "line = np.linspace(-r,r,npoints)\n",
    "\n",
    "ax.plot(line, straight, straight, color='black', alpha=0.9)\n",
    "ax.plot(straight, line, straight, color='black', alpha=0.9)\n",
    "ax.plot(straight, straight, line, color='black', alpha=0.9)\n",
    "\n",
    "tt = np.pi/2\n",
    "pp = np.pi/2\n",
    "\n",
    "\n",
    "# draw the initial state\n",
    "arx = np.cos(u_init) * np.sin(v_init)\n",
    "ary = np.sin(u_init) * np.sin(v_init)\n",
    "arz = np.cos(v_init)\n",
    "ax.quiver(\n",
    "                0, 0, 0, # <-- starting point of vector\n",
    "                arx, ary, arz, # <-- directions of vector\n",
    "                color = 'red', alpha = 1, lw = 2, # alpha=0 makes it invisible\n",
    "                arrow_length_ratio = 0.15\n",
    "            )\n",
    "\n",
    "\n",
    "ax.set_xlabel('x')\n",
    "ax.set_ylabel('y')\n",
    "ax.set_zlabel('z')\n",
    "\n",
    "ax.set_box_aspect((np.ptp(x), np.ptp(y), np.ptp(z)))\n",
    "fig.suptitle('Fidelities for different target states')\n",
    "plt.show()"
   ]
  },
  {
   "cell_type": "code",
   "execution_count": 47,
   "metadata": {},
   "outputs": [
    {
     "name": "stdout",
     "output_type": "stream",
     "text": [
      "F_min = 1.0\n",
      "F_max = 1.0\n"
     ]
    }
   ],
   "source": [
    "print(f'F_min = {np.min(of):.5}')\n",
    "print(f'F_max = {np.max(of):.5}')"
   ]
  },
  {
   "cell_type": "markdown",
   "metadata": {},
   "source": [
    "# Finding the control scheme with ML"
   ]
  },
  {
   "cell_type": "code",
   "execution_count": 48,
   "metadata": {},
   "outputs": [],
   "source": [
    "import jax, flax"
   ]
  }
 ],
 "metadata": {
  "kernelspec": {
   "display_name": "quantum",
   "language": "python",
   "name": "python3"
  },
  "language_info": {
   "codemirror_mode": {
    "name": "ipython",
    "version": 3
   },
   "file_extension": ".py",
   "mimetype": "text/x-python",
   "name": "python",
   "nbconvert_exporter": "python",
   "pygments_lexer": "ipython3",
   "version": "3.10.16"
  }
 },
 "nbformat": 4,
 "nbformat_minor": 2
}
