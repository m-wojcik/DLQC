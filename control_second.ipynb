{
 "cells": [
  {
   "cell_type": "markdown",
   "metadata": {},
   "source": [
    "# Lindblad evolution"
   ]
  },
  {
   "cell_type": "code",
   "execution_count": 6,
   "metadata": {},
   "outputs": [
    {
     "name": "stderr",
     "output_type": "stream",
     "text": [
      "C:\\Users\\Michal\\AppData\\Local\\Temp\\ipykernel_12568\\2982864780.py:70: ComplexWarning: Casting complex values to real discards the imaginary part\n",
      "  tr[i] = np.trace(rho)\n",
      "C:\\Users\\Michal\\AppData\\Local\\Temp\\ipykernel_12568\\2982864780.py:71: ComplexWarning: Casting complex values to real discards the imaginary part\n",
      "  pur[i] = np.trace(rho @ rho)\n",
      "C:\\Users\\Michal\\AppData\\Local\\Temp\\ipykernel_12568\\2982864780.py:72: ComplexWarning: Casting complex values to real discards the imaginary part\n",
      "  fid[i] = np.trace(rho @ rho_init)\n"
     ]
    }
   ],
   "source": [
    "# imports\n",
    "\n",
    "import numpy as np\n",
    "import matplotlib.pyplot as plt\n",
    "#import scipy as sp\n",
    "from jax import numpy as jnp\n",
    "import jax.scipy as sp\n",
    "\n",
    "from src import visuals as vis\n",
    "%matplotlib qt\n",
    "\n",
    "# definitions\n",
    "\n",
    "rho_x = jnp.array([[0,1],[1,0]])\n",
    "rho_y = jnp.array([[0,-1j],[1j,0]])\n",
    "rho_z = jnp.array([[1,0],[0,-1]])\n",
    "\n",
    "rho_m = jnp.array([[0,1],[0,0]])\n",
    "rho_p = jnp.array([[0,0],[1,0]])\n",
    "\n",
    "psi_0 = jnp.array([1,0])\n",
    "psi_1 = jnp.array([0,1])\n",
    "\n",
    "def H(w, g):\n",
    "    return w * rho_z + g * rho_x\n",
    "\n",
    "def unitary_step(H, state, dt):\n",
    "    U = sp.linalg.expm(-1j * H * dt)\n",
    "    new_state = U @ state\n",
    "    return new_state\n",
    "\n",
    "def lindbladian(rho, H, L, gamma, dt):\n",
    "    \"\"\"hbar = 1\"\"\"\n",
    "    Ldag = L.conj().T\n",
    "    drho = -1j * (H @ rho - rho @ H) + gamma * (L @ rho @ Ldag - 0.5 * ((Ldag @ L) @ rho + rho @ (Ldag @ L) ))\n",
    "    rho_new = rho + drho*dt\n",
    "    return rho_new\n",
    "\n",
    "rho = np.outer(np.conj(psi_0), psi_0)\n",
    "\n",
    "\n",
    "\n",
    "# simulation\n",
    "\n",
    "N = 100\n",
    "T = 1\n",
    "\n",
    "times = np.linspace(0,T,N)\n",
    "s_x = np.zeros(N, dtype='complex')\n",
    "s_y = np.zeros(N, dtype='complex')\n",
    "s_z = np.zeros(N, dtype='complex')\n",
    "tr = np.zeros(N)\n",
    "pur = np.zeros(N)\n",
    "fid = np.zeros(N)\n",
    "\n",
    "rho_init = np.outer(np.conj(psi_0), psi_0)\n",
    "\n",
    "w = 5\n",
    "g = 4\n",
    "L = rho_p\n",
    "gamma = 1\n",
    "dt = T/N\n",
    "\n",
    "rho = rho_init\n",
    "for i in range(N):\n",
    "    s_x[i] = np.trace(rho @ rho_x)\n",
    "    s_y[i] = np.trace(rho @ rho_y)\n",
    "    s_z[i] = np.trace(rho @ rho_z)\n",
    "    \n",
    "    tr[i] = np.trace(rho)\n",
    "    pur[i] = np.trace(rho @ rho)\n",
    "    fid[i] = np.trace(rho @ rho_init)\n",
    "    \n",
    "    rho = lindbladian(rho, H(w,g), L, gamma, dt)\n",
    "\n",
    "# vis.plotBlochSphereTrajectory(s_x, s_y, s_z, 100)"
   ]
  },
  {
   "cell_type": "code",
   "execution_count": 2,
   "metadata": {},
   "outputs": [],
   "source": [
    "fig = plt.figure()\n",
    "ax = fig.add_subplot(111)\n",
    "\n",
    "plotting_spins = 1\n",
    "if plotting_spins:\n",
    "    ax.plot(times, s_x.real, c='C1', label='x')\n",
    "    #ax.plot(s_x.imag, c='C1', ls='-.')\n",
    "    ax.plot(times, s_y.real, c='C2', label='y')\n",
    "    #ax.plot(s_y.imag, c='C2', ls='-.')\n",
    "    ax.plot(times, s_z.real, c='C3', label='z')\n",
    "    #ax.plot(s_z.imag, c='C3', ls='-.')\n",
    "    ax.hlines([0], [0],[times[-1]], colors=['black'], linestyles=[':'])\n",
    "\n",
    "plotting_markers = not plotting_spins\n",
    "if plotting_markers:\n",
    "    ax.plot(times, tr, ls='--', c='black', label='Trace')\n",
    "    ax.plot(times, pur, ls='--', c='pink', label='Purity')\n",
    "    ax.plot(times, fid, ls='--', c='cyan', label='Fidelity')\n",
    "\n",
    "ax.legend()\n",
    "fig.show()\n"
   ]
  },
  {
   "cell_type": "markdown",
   "metadata": {},
   "source": [
    "# ML version of control"
   ]
  },
  {
   "cell_type": "code",
   "execution_count": 3,
   "metadata": {},
   "outputs": [],
   "source": [
    "from flax import nnx\n",
    "import optax\n",
    "import jax\n",
    "from jax import numpy as jnp\n"
   ]
  },
  {
   "cell_type": "code",
   "execution_count": 4,
   "metadata": {},
   "outputs": [],
   "source": [
    "class Control(nnx.Module):\n",
    "  def __init__(self, din, dmid1, dmid2, dout, rngs: nnx.Rngs):\n",
    "    self.linear_in = nnx.Linear(din, dmid1, rngs=rngs)\n",
    "    self.linear_mid = nnx.Linear(dmid1, dmid2, rngs=rngs)\n",
    "    self.linear_out = nnx.Linear(dmid2, dout, rngs=rngs)\n",
    "\n",
    "  def __call__(self, x):\n",
    "    x = nnx.relu(self.linear_mid(nnx.relu(self.linear_in(x))))\n",
    "    return self.linear_out(x)\n",
    "  \n",
    "\n",
    "din = 1 # t \n",
    "dmid1 = 3\n",
    "dmid2 = 3\n",
    "dout = 2 # hamiltonian parameters as functions of t\n",
    "\n",
    "control_model = Control(din, dmid1, dmid2, dout, rngs=nnx.Rngs(0))"
   ]
  },
  {
   "cell_type": "code",
   "execution_count": 5,
   "metadata": {},
   "outputs": [],
   "source": [
    "def unitary_evolution(psi, ws, gs, dt):\n",
    "    nsteps = len(ws)\n",
    "    for i in range(nsteps):\n",
    "        psi = unitary_step(H(ws[i], gs[i]), psi, dt)\n",
    "    return psi"
   ]
  },
  {
   "cell_type": "code",
   "execution_count": 6,
   "metadata": {},
   "outputs": [],
   "source": [
    "optimizer = nnx.Optimizer(control_model, optax.adam(1e-3))  # Reference sharing.\n",
    "\n",
    "@nnx.jit  # Automatic state management for JAX transforms.\n",
    "def train_step(model, optimizer, x, y):\n",
    "  def loss_fn(model):\n",
    "    # hyperparameters:\n",
    "    T = 1\n",
    "    nsteps = 100\n",
    "\n",
    "    # evolution\n",
    "    times = jnp.linspace(0,T,nsteps)\n",
    "    dt = T/nsteps\n",
    "\n",
    "    psi = x\n",
    "    for i in range(nsteps):\n",
    "      params = model(jnp.array([times[i]]))\n",
    "      psi_new = unitary_step(H(params[0], params[1]), psi, dt)\n",
    "      psi = psi_new\n",
    "\n",
    "    return 1 - jnp.abs(jnp.dot(jnp.conj(psi), y))**2\n",
    "\n",
    "  loss, grads = nnx.value_and_grad(loss_fn)(model)\n",
    "  optimizer.update(grads)  # in-place updates\n",
    "\n",
    "  return loss"
   ]
  },
  {
   "cell_type": "code",
   "execution_count": 7,
   "metadata": {},
   "outputs": [],
   "source": [
    "x_ex = psi_0\n",
    "y_ex = psi_1\n",
    "\n",
    "ns = 300\n",
    "L = np.zeros(ns)\n",
    "\n",
    "for i in range(ns):\n",
    "    L[i] = train_step(control_model, optimizer, x_ex, y_ex)"
   ]
  },
  {
   "cell_type": "code",
   "execution_count": 8,
   "metadata": {},
   "outputs": [
    {
     "data": {
      "text/plain": [
       "[<matplotlib.lines.Line2D at 0x16f5bc32860>]"
      ]
     },
     "execution_count": 8,
     "metadata": {},
     "output_type": "execute_result"
    }
   ],
   "source": [
    "plt.plot(L)"
   ]
  },
  {
   "cell_type": "code",
   "execution_count": 67,
   "metadata": {},
   "outputs": [],
   "source": [
    "N = 100\n",
    "\n",
    "ts = jnp.linspace(0,1,N)\n",
    "ws = np.zeros(N)\n",
    "gs = np.zeros(N)\n",
    "for i in range(N):\n",
    "    params = control_model(ts[i:i+1])\n",
    "    ws[i] = params[0]\n",
    "    gs[i] = params[1]"
   ]
  },
  {
   "cell_type": "code",
   "execution_count": 76,
   "metadata": {},
   "outputs": [
    {
     "data": {
      "text/plain": [
       "[<matplotlib.lines.Line2D at 0x254c9378a00>]"
      ]
     },
     "execution_count": 76,
     "metadata": {},
     "output_type": "execute_result"
    }
   ],
   "source": [
    "plt.plot(ws)\n",
    "plt.plot(gs)"
   ]
  },
  {
   "cell_type": "code",
   "execution_count": 73,
   "metadata": {},
   "outputs": [
    {
     "data": {
      "text/plain": [
       "[<matplotlib.lines.Line2D at 0x254c95d9e40>]"
      ]
     },
     "execution_count": 73,
     "metadata": {},
     "output_type": "execute_result"
    }
   ],
   "source": [
    "plt.plot(L)"
   ]
  },
  {
   "cell_type": "code",
   "execution_count": 84,
   "metadata": {},
   "outputs": [
    {
     "name": "stdout",
     "output_type": "stream",
     "text": [
      "[ 0.  -0.j -0.02-1.j]\n",
      "[0 1]\n",
      "1.0000007\n"
     ]
    }
   ],
   "source": [
    "psi = x_ex\n",
    "for i in range(N):\n",
    "    psi = unitary_step(H(ws[i], gs[i]), psi, dt)\n",
    "\n",
    "print(psi.round(2))\n",
    "print(y_ex)\n",
    "print(jnp.abs(jnp.dot(jnp.conj(psi), y_ex))**2)\n"
   ]
  },
  {
   "cell_type": "markdown",
   "metadata": {},
   "source": [
    "# Lindblad evolution, ML control"
   ]
  },
  {
   "cell_type": "code",
   "execution_count": 1,
   "metadata": {},
   "outputs": [],
   "source": [
    "import numpy as np\n",
    "import matplotlib.pyplot as plt\n",
    "#import scipy as sp\n",
    "from jax import numpy as jnp\n",
    "import jax.scipy as sp\n",
    "\n",
    "from src import visuals as vis\n",
    "%matplotlib qt\n",
    "\n",
    "from flax import nnx\n",
    "import optax\n",
    "import jax\n",
    "from jax import numpy as jnp\n"
   ]
  },
  {
   "cell_type": "code",
   "execution_count": 157,
   "metadata": {},
   "outputs": [],
   "source": [
    "rho_x = jnp.array([[0,1],[1,0]])\n",
    "rho_y = jnp.array([[0,-1j],[1j,0]])\n",
    "rho_z = jnp.array([[1,0],[0,-1]])\n",
    "\n",
    "rho_m = jnp.array([[0,1],[0,0]])\n",
    "rho_p = jnp.array([[0,0],[1,0]])\n",
    "\n",
    "psi_0 = jnp.array([1,0])\n",
    "psi_1 = jnp.array([0,1])\n",
    "\n",
    "def H(w, g):\n",
    "    return w * rho_z + g * rho_x"
   ]
  },
  {
   "cell_type": "code",
   "execution_count": 158,
   "metadata": {},
   "outputs": [],
   "source": [
    "@jax.jit\n",
    "def lindbladian(rho, H, L, gamma, dt):\n",
    "    \"\"\"hbar = 1\"\"\"\n",
    "    Ldag = L.conj().T\n",
    "    weight = np.random.uniform(0.5,1.5) ################################## ADDING RANDOMNESS - NOT PRECISELY GKSL EQ HERE ##################################\n",
    "    drho = -1j * (H @ rho - rho @ H) + weight * gamma * (L @ rho @ Ldag - 0.5 * ((Ldag @ L) @ rho + rho @ (Ldag @ L) ))\n",
    "    rho_new = rho + drho*dt\n",
    "    return rho_new"
   ]
  },
  {
   "cell_type": "code",
   "execution_count": 159,
   "metadata": {},
   "outputs": [],
   "source": [
    "######################################### PROBLEM DEFINITION HERE ###########################################\n",
    "\n",
    "T = 1\n",
    "nsteps = 100\n",
    "times = jnp.linspace(0,T,nsteps)\n",
    "dt = T/nsteps\n",
    "\n",
    "rho_init = np.outer(np.conj(psi_0), psi_0)\n",
    "#psi_final = 1/jnp.sqrt(2) * (psi_0 + psi_1)\n",
    "psi_final = psi_1\n",
    "rho_final = np.outer(np.conj(psi_final), psi_final)\n",
    "\n",
    "diss = rho_x\n",
    "gamma = 1"
   ]
  },
  {
   "cell_type": "code",
   "execution_count": 160,
   "metadata": {},
   "outputs": [],
   "source": [
    "class Control(nnx.Module):\n",
    "  def __init__(self, din, dmid1, dmid2, dout, rngs: nnx.Rngs):\n",
    "    self.linear_in = nnx.Linear(din, dmid1, rngs=rngs)\n",
    "    self.linear_mid = nnx.Linear(dmid1, dmid2, rngs=rngs)\n",
    "    self.linear_out = nnx.Linear(dmid2, dout, rngs=rngs)\n",
    "\n",
    "  def __call__(self, x):\n",
    "    x = nnx.gelu(self.linear_mid(nnx.relu(self.linear_in(x))))\n",
    "    return self.linear_out(x)\n",
    "  \n",
    "\n",
    "din = 1 # t \n",
    "dmid1 = 5\n",
    "dmid2 = 5\n",
    "dout = 2 # hamiltonian parameters as functions of t\n",
    "\n",
    "control_model_lindblad = Control(din, dmid1, dmid2, dout, rngs=nnx.Rngs(0))"
   ]
  },
  {
   "cell_type": "code",
   "execution_count": 161,
   "metadata": {},
   "outputs": [],
   "source": [
    "optimizer_lindblad = nnx.Optimizer(control_model_lindblad, optax.adam(1e-3))  # Reference sharing.\n",
    "\n",
    "@nnx.jit  # Automatic state management for JAX transforms.\n",
    "def train_step_lindblad(control_model_lindblad, optimizer_lindblad, x, y):\n",
    "  #y_sqrt = sp.linalg.sqrtm(y)\n",
    "\n",
    "  def loss_fn(control_model_lindblad):\n",
    "    \n",
    "    rho = x\n",
    "    for i in range(nsteps):\n",
    "      params = control_model_lindblad(jnp.array([times[i]]))\n",
    "      rho_new = lindbladian(rho, H(params[0], params[1]), diss, gamma, dt)\n",
    "      rho = rho_new\n",
    "\n",
    "    ############################ SPECIAL CASE: PURE FINAL STATE ##############################\n",
    "    y_dag = jnp.conj(y).T\n",
    "    fid = jnp.real(y_dag @ rho @ y)\n",
    "    return (1-fid)**2\n",
    "\n",
    "  loss, grads = nnx.value_and_grad(loss_fn)(control_model_lindblad)\n",
    "  optimizer_lindblad.update(grads)  # in-place updates\n",
    "\n",
    "  return loss"
   ]
  },
  {
   "cell_type": "code",
   "execution_count": 162,
   "metadata": {},
   "outputs": [
    {
     "name": "stderr",
     "output_type": "stream",
     "text": [
      "c:\\Users\\Michal\\miniconda3\\envs\\quantum\\lib\\site-packages\\jax\\_src\\lax\\lax.py:3373: ComplexWarning: Casting complex values to real discards the imaginary part\n",
      "  x_bar = _convert_element_type(x_bar, x.aval.dtype, x.aval.weak_type)\n"
     ]
    }
   ],
   "source": [
    "################################ TRAINING #######################################\n",
    "\n",
    "nepochs = 8000\n",
    "L = np.zeros(nepochs)\n",
    "\n",
    "for i in range(nepochs):\n",
    "    L[i] = train_step_lindblad(control_model_lindblad, optimizer_lindblad, rho_init, psi_final)\n",
    "\n",
    "plt.plot(L)\n",
    "plt.show()"
   ]
  },
  {
   "cell_type": "code",
   "execution_count": 163,
   "metadata": {},
   "outputs": [],
   "source": [
    "ws = np.zeros(nsteps)\n",
    "gs = np.zeros(nsteps)\n",
    "\n",
    "for i in range(nsteps):\n",
    "    params = control_model_lindblad(times[i:i+1])\n",
    "    ws[i] = params[0]\n",
    "    gs[i] = params[1]\n",
    "\n",
    "plt.plot(ws)\n",
    "plt.plot(gs)\n",
    "plt.show()"
   ]
  },
  {
   "cell_type": "code",
   "execution_count": 164,
   "metadata": {},
   "outputs": [],
   "source": [
    "plt.plot(L)\n",
    "plt.show()"
   ]
  },
  {
   "cell_type": "code",
   "execution_count": 165,
   "metadata": {},
   "outputs": [
    {
     "name": "stdout",
     "output_type": "stream",
     "text": [
      "[[1 0]\n",
      " [0 0]]\n",
      "[[0.  +0.j   0.13+0.09j]\n",
      " [0.13-0.09j 1.  +0.j  ]]\n",
      "[[0 0]\n",
      " [0 1]]\n",
      "0.9999994\n"
     ]
    }
   ],
   "source": [
    "rho = rho_init\n",
    "for i in range(nsteps):\n",
    "    rho = lindbladian(rho, H(ws[i], gs[i]), diss, gamma, dt)\n",
    "\n",
    "print(rho_init)\n",
    "print(rho.round(2))\n",
    "print(rho_final)\n",
    "\n",
    "psi_final_dag = jnp.conj(psi_final).T\n",
    "fid = jnp.real(psi_final_dag @ rho @ psi_final)\n",
    "print(fid)"
   ]
  },
  {
   "cell_type": "markdown",
   "metadata": {},
   "source": [
    "# Fidelity as a function of gamma (dissipation rate)"
   ]
  },
  {
   "cell_type": "code",
   "execution_count": null,
   "metadata": {},
   "outputs": [],
   "source": [
    "######################################### PROBLEM DEFINITION HERE ###########################################\n",
    "\n",
    "T = 1\n",
    "nsteps = 100\n",
    "times = jnp.linspace(0,T,nsteps)\n",
    "dt = T/nsteps\n",
    "\n",
    "rho_init = np.outer(np.conj(psi_0), psi_0)\n",
    "#psi_final = 1/jnp.sqrt(2) * (psi_0 + psi_1)\n",
    "psi_final = psi_1\n",
    "rho_final = np.outer(np.conj(psi_final), psi_final)\n",
    "\n",
    "diss = rho_x"
   ]
  },
  {
   "cell_type": "code",
   "execution_count": 129,
   "metadata": {},
   "outputs": [],
   "source": [
    "ngammas = 10\n",
    "max_gamma = 2\n",
    "gammas = jnp.linspace(0,max_gamma,ngammas)\n",
    "fids = np.zeros(ngammas)\n",
    "\n",
    "for z in range(ngammas):\n",
    "  gamma = gammas[z]\n",
    "  ### MODEL\n",
    "\n",
    "  class Control(nnx.Module):\n",
    "    def __init__(self, din, dmid1, dmid2, dout, rngs: nnx.Rngs):\n",
    "      self.linear_in = nnx.Linear(din, dmid1, rngs=rngs)\n",
    "      self.linear_mid = nnx.Linear(dmid1, dmid2, rngs=rngs)\n",
    "      self.linear_out = nnx.Linear(dmid2, dout, rngs=rngs)\n",
    "\n",
    "    def __call__(self, x):\n",
    "      x = nnx.gelu(self.linear_mid(nnx.relu(self.linear_in(x))))\n",
    "      return self.linear_out(x)\n",
    "  \n",
    "\n",
    "  din = 1 # t \n",
    "  dmid1 = 4\n",
    "  dmid2 = 4\n",
    "  dout = 2 # hamiltonian parameters as functions of t\n",
    "\n",
    "  control_model_lindblad = Control(din, dmid1, dmid2, dout, rngs=nnx.Rngs(0))\n",
    "\n",
    "  ### OPTIMIZER\n",
    "\n",
    "  optimizer_lindblad = nnx.Optimizer(control_model_lindblad, optax.adam(1e-3))  # Reference sharing.\n",
    "\n",
    "  @nnx.jit  # Automatic state management for JAX transforms.\n",
    "  def train_step_lindblad(control_model_lindblad, optimizer_lindblad, x, y):\n",
    "    #y_sqrt = sp.linalg.sqrtm(y)\n",
    "\n",
    "    def loss_fn(control_model_lindblad):\n",
    "      \n",
    "      rho = x\n",
    "      for i in range(nsteps):\n",
    "        params = control_model_lindblad(jnp.array([times[i]]))\n",
    "        rho_new = lindbladian(rho, H(params[0], params[1]), diss, gamma, dt)\n",
    "        rho = rho_new\n",
    "\n",
    "      ############################ SPECIAL CASE: PURE FINAL STATE ##############################\n",
    "      y_dag = jnp.conj(y).T\n",
    "      fid = jnp.real(y_dag @ rho @ y)\n",
    "      return (1-fid)**2\n",
    "\n",
    "    loss, grads = nnx.value_and_grad(loss_fn)(control_model_lindblad)\n",
    "    optimizer_lindblad.update(grads)  # in-place updates\n",
    "\n",
    "    return loss\n",
    "\n",
    "\n",
    "  ################################ TRAINING #######################################\n",
    "\n",
    "  nepochs = 5000\n",
    "  L = np.zeros(nepochs)\n",
    "\n",
    "  for i in range(nepochs):\n",
    "      L[i] = train_step_lindblad(control_model_lindblad, optimizer_lindblad, rho_init, psi_final)\n",
    "\n",
    "  ################################ DRIVING #######################################\n",
    "\n",
    "  ws = np.zeros(nsteps)\n",
    "  gs = np.zeros(nsteps)\n",
    "\n",
    "  for i in range(nsteps):\n",
    "      params = control_model_lindblad(times[i:i+1])\n",
    "      ws[i] = params[0]\n",
    "      gs[i] = params[1]\n",
    "\n",
    "  rho = rho_init\n",
    "  for i in range(nsteps):\n",
    "      rho = lindbladian(rho, H(ws[i], gs[i]), diss, gamma, dt)\n",
    "\n",
    "  psi_final_dag = jnp.conj(psi_final).T\n",
    "  fid = jnp.real(psi_final_dag @ rho @ psi_final)\n",
    "  fids[z] = fid"
   ]
  },
  {
   "cell_type": "code",
   "execution_count": 131,
   "metadata": {},
   "outputs": [],
   "source": [
    "fig = plt.figure(figsize=(6,6))\n",
    "ax = fig.add_subplot(111)\n",
    "\n",
    "ax.plot(gammas, fids)\n",
    "ax.set_ylim(0.5,1.09)\n",
    "fig.show()"
   ]
  },
  {
   "cell_type": "code",
   "execution_count": 124,
   "metadata": {},
   "outputs": [],
   "source": [
    "plt.plot(ws)\n",
    "plt.plot(gs)\n",
    "plt.show()"
   ]
  }
 ],
 "metadata": {
  "kernelspec": {
   "display_name": "quantum",
   "language": "python",
   "name": "python3"
  },
  "language_info": {
   "codemirror_mode": {
    "name": "ipython",
    "version": 3
   },
   "file_extension": ".py",
   "mimetype": "text/x-python",
   "name": "python",
   "nbconvert_exporter": "python",
   "pygments_lexer": "ipython3",
   "version": "3.10.16"
  }
 },
 "nbformat": 4,
 "nbformat_minor": 2
}
