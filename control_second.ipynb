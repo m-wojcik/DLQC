{
 "cells": [
  {
   "cell_type": "markdown",
   "metadata": {},
   "source": [
    "# ML version of quantum state preparation"
   ]
  },
  {
   "cell_type": "code",
   "execution_count": 1,
   "metadata": {},
   "outputs": [
    {
     "name": "stderr",
     "output_type": "stream",
     "text": [
      "C:\\Users\\Michal\\AppData\\Local\\Temp\\ipykernel_25496\\2359911832.py:63: ComplexWarning: Casting complex values to real discards the imaginary part\n",
      "  tr[i] = np.trace(rho)\n",
      "C:\\Users\\Michal\\AppData\\Local\\Temp\\ipykernel_25496\\2359911832.py:64: ComplexWarning: Casting complex values to real discards the imaginary part\n",
      "  pur[i] = np.trace(rho @ rho)\n",
      "C:\\Users\\Michal\\AppData\\Local\\Temp\\ipykernel_25496\\2359911832.py:65: ComplexWarning: Casting complex values to real discards the imaginary part\n",
      "  fid[i] = np.trace(rho @ rho_init)\n",
      "c:\\Users\\Michal\\miniconda3\\envs\\quantum\\lib\\site-packages\\matplotlib\\cbook.py:1762: ComplexWarning: Casting complex values to real discards the imaginary part\n",
      "  return math.isfinite(val)\n",
      "c:\\Users\\Michal\\miniconda3\\envs\\quantum\\lib\\site-packages\\matplotlib\\cbook.py:1398: ComplexWarning: Casting complex values to real discards the imaginary part\n",
      "  return np.asarray(x, float)\n"
     ]
    }
   ],
   "source": [
    "# imports\n",
    "\n",
    "import numpy as np\n",
    "import matplotlib.pyplot as plt\n",
    "\n",
    "from src import visuals as vis\n",
    "%matplotlib qt\n",
    "\n",
    "# definitions\n",
    "\n",
    "rho_x = np.array([[0,1],[1,0]])\n",
    "rho_y = np.array([[0,-1j],[1j,0]])\n",
    "rho_z = np.array([[1,0],[0,-1]])\n",
    "\n",
    "rho_m = np.array([[0,1],[0,0]])\n",
    "rho_p = np.array([[0,0],[1,0]])\n",
    "\n",
    "psi_0 = np.array([1,0])\n",
    "psi_1 = np.array([0,1])\n",
    "\n",
    "def H(w, g):\n",
    "    return w * rho_z + g * rho_x\n",
    "\n",
    "\n",
    "def lindbladian(rho, H, L, gamma, dt):\n",
    "    \"\"\"hbar = 1\"\"\"\n",
    "    Ldag = L.conj().T\n",
    "    drho = -1j * (H @ rho - rho @ H) + gamma * (L @ rho @ Ldag - 0.5 * ((Ldag @ L) @ rho + rho @ (Ldag @ L) ))\n",
    "    rho_new = rho + drho*dt\n",
    "    return rho_new\n",
    "\n",
    "rho = np.outer(np.conj(psi_0), psi_0)\n",
    "\n",
    "\n",
    "\n",
    "# simulation\n",
    "\n",
    "N = 100\n",
    "T = 1\n",
    "\n",
    "times = np.linspace(0,T,N)\n",
    "s_x = np.zeros(N, dtype='complex')\n",
    "s_y = np.zeros(N, dtype='complex')\n",
    "s_z = np.zeros(N, dtype='complex')\n",
    "tr = np.zeros(N)\n",
    "pur = np.zeros(N)\n",
    "fid = np.zeros(N)\n",
    "\n",
    "rho_init = np.outer(np.conj(psi_0), psi_0)\n",
    "\n",
    "w = 5\n",
    "g = 4\n",
    "L = rho_p\n",
    "gamma = 1\n",
    "dt = T/N\n",
    "\n",
    "rho = rho_init\n",
    "for i in range(N):\n",
    "    s_x[i] = np.trace(rho @ rho_x)\n",
    "    s_y[i] = np.trace(rho @ rho_y)\n",
    "    s_z[i] = np.trace(rho @ rho_z)\n",
    "    \n",
    "    tr[i] = np.trace(rho)\n",
    "    pur[i] = np.trace(rho @ rho)\n",
    "    fid[i] = np.trace(rho @ rho_init)\n",
    "    \n",
    "    rho = lindbladian(rho, H(w,g), L, gamma, dt)\n",
    "\n",
    "vis.plotBlochSphereTrajectory(s_x, s_y, s_z, 100)"
   ]
  },
  {
   "cell_type": "code",
   "execution_count": null,
   "metadata": {},
   "outputs": [
    {
     "name": "stderr",
     "output_type": "stream",
     "text": [
      "c:\\Users\\Michal\\miniconda3\\envs\\quantum\\lib\\site-packages\\matplotlib\\cbook.py:1398: ComplexWarning: Casting complex values to real discards the imaginary part\n",
      "  return np.asarray(x, float)\n"
     ]
    }
   ],
   "source": [
    "fig = plt.figure()\n",
    "ax = fig.add_subplot(111)\n",
    "\n",
    "plotting_spins = 1\n",
    "if plotting_spins:\n",
    "    ax.plot(times, s_x.real, c='C1', label='x')\n",
    "    #ax.plot(s_x.imag, c='C1', ls='-.')\n",
    "    ax.plot(times, s_y.real, c='C2', label='y')\n",
    "    #ax.plot(s_y.imag, c='C2', ls='-.')\n",
    "    ax.plot(times, s_z.real, c='C3', label='z')\n",
    "    #ax.plot(s_z.imag, c='C3', ls='-.')\n",
    "    ax.hlines([0], [0],[times[-1]], colors=['black'], linestyles=[':'])\n",
    "\n",
    "plotting_markers = not plotting_spins\n",
    "if plotting_markers:\n",
    "    ax.plot(times, tr, ls='--', c='black', label='Trace')\n",
    "    ax.plot(times, pur, ls='--', c='pink', label='Purity')\n",
    "    ax.plot(times, fid, ls='--', c='cyan', label='Fidelity')\n",
    "\n",
    "ax.legend()\n",
    "fig.show()\n"
   ]
  },
  {
   "cell_type": "code",
   "execution_count": 2,
   "metadata": {},
   "outputs": [],
   "source": [
    "\n",
    "import pylab as plt\n",
    "import numpy as np\n",
    "\n",
    "# Make some data\n",
    "n=1000\n",
    "x=np.linspace(0,100,n)\n",
    "y=np.sin(x)\n",
    "\n",
    "# Your coloring array\n",
    "T=np.linspace(0,1,np.size(x))**2\n",
    "fig = plt.figure()\n",
    "ax = fig.add_subplot(111)\n",
    "\n",
    "# Segment plot and color depending on T\n",
    "s = 10 # Segment length\n",
    "for i in range(0,n-s,s):\n",
    "    ax.plot(x[i:i+s+1],y[i:i+s+1],color=(0.0,0.5,T[i]))"
   ]
  }
 ],
 "metadata": {
  "kernelspec": {
   "display_name": "quantum",
   "language": "python",
   "name": "python3"
  },
  "language_info": {
   "codemirror_mode": {
    "name": "ipython",
    "version": 3
   },
   "file_extension": ".py",
   "mimetype": "text/x-python",
   "name": "python",
   "nbconvert_exporter": "python",
   "pygments_lexer": "ipython3",
   "version": "3.10.16"
  }
 },
 "nbformat": 4,
 "nbformat_minor": 2
}
